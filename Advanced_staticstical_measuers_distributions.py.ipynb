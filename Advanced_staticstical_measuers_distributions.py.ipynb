{
  "nbformat": 4,
  "nbformat_minor": 0,
  "metadata": {
    "colab": {
      "provenance": []
    },
    "kernelspec": {
      "name": "python3",
      "display_name": "Python 3"
    },
    "language_info": {
      "name": "python"
    }
  },
  "cells": [
    {
      "cell_type": "code",
      "execution_count": 1,
      "metadata": {
        "colab": {
          "base_uri": "https://localhost:8080/"
        },
        "id": "Owqn3gpLwiCE",
        "outputId": "ca14a644-46cf-4db4-aff5-73690f0d1da5"
      },
      "outputs": [
        {
          "output_type": "stream",
          "name": "stdout",
          "text": [
            "Mean age:  39.5\n",
            "Mean Salary:  325200.0\n",
            "Median Age:  37.5\n",
            "Median Salary:  75000.0\n",
            "Mode Age:  50\n",
            "Mode Salary:  50000\n",
            "Standard deviation Age:  11.452801695072985\n",
            "Standard deviation Salary:  544879.558557057\n",
            "Variance age:  131.16666666666666\n",
            "Variance salary:  296893733333.3333\n"
          ]
        }
      ],
      "source": [
        "import pandas as pd\n",
        "\n",
        "# Sample data\n",
        "data = {\n",
        "    'Age' : [25, 30, 35, 50, 28, 40, 50, 60, 32, 45],\n",
        "    'Salary' : [50000, 1200000, 70000, 60000, 80000, 55000, 85000, 90000, 1500000, 62000]\n",
        "}\n",
        "df = pd.DataFrame(data)\n",
        "\n",
        "# Mean\n",
        "mean_age = df['Age'].mean()\n",
        "mean_salary = df['Salary'].mean()\n",
        "\n",
        "print('Mean age: ', mean_age)\n",
        "print('Mean Salary: ', mean_salary)\n",
        "\n",
        "\"\"\"# Descreptive Statistics - Median\n",
        "\n",
        "Def: the median is the middle value in a set of numbers. It separates the higher half from the lower half of the dataset.\n",
        "\n",
        "Use Case: the median is used to understand the central tendancy of data, especially when the data has outliers, such as median household income.\n",
        "\n",
        "\n",
        "\"\"\"\n",
        "\n",
        "# Median\n",
        "\n",
        "median_age = df['Age'].median()\n",
        "median_salary = df['Salary'].median()\n",
        "\n",
        "print('Median Age: ', median_age)\n",
        "print('Median Salary: ', median_salary)\n",
        "\n",
        "\"\"\"# Descreptive Statistics - Mode\n",
        "\n",
        "Def: the mode is the value that appears most frequently in a dataset.\n",
        "\n",
        "Use Case: the mode is used in retail to find the most common product or the most common transaction amount.\n",
        "\"\"\"\n",
        "\n",
        "# Mode\n",
        "mode_age = df['Age'].mode()[0]\n",
        "mode_salary = df['Salary'].mode()[0]\n",
        "\n",
        "print('Mode Age: ', mode_age)\n",
        "print('Mode Salary: ', mode_salary)\n",
        "\n",
        "\"\"\"# Descreptive Statistics - Standard Deviation\n",
        "\n",
        "Use Case: SD is used in finance to measure the risk or volatility of an investment.\n",
        "\"\"\"\n",
        "\n",
        "# Standard deviation\n",
        "std_age = df['Age'].std()\n",
        "std_salary = df['Salary'].std()\n",
        "\n",
        "print(\"Standard deviation Age: \", std_age)\n",
        "print(\"Standard deviation Salary: \", std_salary)\n",
        "\n",
        "\"\"\"# Descreptive Statistics - Variance\n",
        "\n",
        "Def: the variance measures the dispersion of a set of values. It is the average of the squared differences from the mean.\n",
        "\n",
        "Use Case: Variance is used in finance to access the spread between numbers in a dataset, such as investment returns.\n",
        "\"\"\"\n",
        "\n",
        "# Variance\n",
        "var_age = df['Age'].var()\n",
        "var_salary = df['Salary'].var()\n",
        "\n",
        "print(\"Variance age: \", var_age)\n",
        "print(\"Variance salary: \", var_salary)"
      ]
    }
  ]
}